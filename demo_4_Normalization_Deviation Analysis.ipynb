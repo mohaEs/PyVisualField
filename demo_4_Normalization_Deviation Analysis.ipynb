{
 "cells": [
  {
   "cell_type": "markdown",
   "id": "3dd352ec",
   "metadata": {},
   "source": [
    "# This notebook shows examples of doing normalization and compute deviations and probabilities"
   ]
  },
  {
   "cell_type": "markdown",
   "id": "284d4f83",
   "metadata": {},
   "source": [
    "## getnv(): gets current normative setting from the visualFields environment (from visualFields package)"
   ]
  },
  {
   "cell_type": "code",
   "execution_count": 1,
   "id": "80dcc116",
   "metadata": {},
   "outputs": [
    {
     "name": "stdout",
     "output_type": "stream",
     "text": [
      "$name\n",
      "\n",
      "[1] \"SUNY-IU classic NVs for 24-2\"\n",
      "\n",
      "\n",
      "\n",
      "$perimetry\n",
      "\n",
      "[1] \"Static automated perimetry\"\n",
      "\n",
      "\n",
      "\n",
      "$strategy\n",
      "\n",
      "[1] \"SITA standard\"\n",
      "\n",
      "\n",
      "\n",
      "$size\n",
      "\n",
      "[1] \"Size III\"\n",
      "\n",
      "\n",
      "\n"
     ]
    }
   ],
   "source": [
    "from PyVisualFields import visualFields\n",
    "\n",
    "######## Get the current normalization information\n",
    "currentNV = visualFields.getnv()"
   ]
  },
  {
   "cell_type": "markdown",
   "id": "0d70bcce",
   "metadata": {},
   "source": [
    "## Get all Normalized Computations\n",
    "## compute all td, pd, pdp, etc based on the current NV"
   ]
  },
  {
   "cell_type": "code",
   "execution_count": 4,
   "id": "72aceb91",
   "metadata": {},
   "outputs": [
    {
     "name": "stdout",
     "output_type": "stream",
     "text": [
      "     id eye       date      time  age type  fpr  fnr    fl  duration  ...  \\\n",
      "1     1  OD 2008-08-13  00:00:00   53  pwg    0  0.0  0.00  00:00:00  ...   \n",
      "2     1  OD 2008-08-20  00:00:00   53  pwg    0  0.0  0.06  00:00:00  ...   \n",
      "3     1  OD 2008-08-27  00:00:00   53  pwg    0  0.0  0.00  00:00:00  ...   \n",
      "4     1  OD 2008-09-03  00:00:00   53  pwg    0  0.0  0.06  00:00:00  ...   \n",
      "5     1  OD 2008-09-10  00:00:00   53  pwg    0  0.0  0.13  00:00:00  ...   \n",
      "..   ..  ..        ...       ...  ...  ...  ...  ...   ...       ...  ...   \n",
      "356  30  OS 2009-05-08  00:00:00   68  pwg    0  0.0  0.00  00:00:00  ...   \n",
      "357  30  OS 2009-05-15  00:00:00   68  pwg    0  0.0  0.00  00:00:00  ...   \n",
      "358  30  OS 2009-05-25  00:00:00   68  pwg    0  0.0  0.00  00:00:00  ...   \n",
      "359  30  OS 2009-05-29  00:00:00   68  pwg    0  0.0  0.00  00:00:00  ...   \n",
      "360  30  OS 2009-06-05  00:00:00   68  pwg    0  0.0  0.07  00:00:00  ...   \n",
      "\n",
      "          l45       l46       l47       l48       l49       l50       l51  \\\n",
      "1   -4.127576 -2.135286 -5.664245 -4.714452 -3.285908 -0.378612 -4.348669   \n",
      "2   -2.127576 -3.135286 -2.664245 -2.714452 -1.285908  0.621388 -3.348669   \n",
      "3   -4.127576 -4.135286 -3.664245 -6.714452 -8.285908 -2.378612 -5.348669   \n",
      "4   -4.127576 -4.135286 -5.664245 -6.714452 -6.285908 -3.378612 -4.348669   \n",
      "5   -2.127576 -3.135286 -4.664245 -6.714452 -6.285908 -3.378612 -4.348669   \n",
      "..        ...       ...       ...       ...       ...       ...       ...   \n",
      "356 -7.103921 -3.213406 -2.787844 -1.827235 -1.331580 -1.300878 -4.300355   \n",
      "357 -7.103921 -4.213406 -0.787844 -2.827235 -0.331580  0.699122 -6.300355   \n",
      "358 -7.103921 -1.213406 -0.787844 -4.827235 -2.331580 -1.300878 -4.300355   \n",
      "359 -7.103921 -3.213406 -0.787844 -0.827235 -0.331580 -2.300878 -5.300355   \n",
      "360 -7.103921 -4.213406 -2.787844 -1.827235 -3.331580 -3.300878 -5.300355   \n",
      "\n",
      "          l52       l53      l54  \n",
      "1   -4.877627 -2.927835  1.50071  \n",
      "2   -4.877627 -1.927835  1.50071  \n",
      "3   -3.877627 -3.927835 -4.49929  \n",
      "4   -5.877627 -3.927835 -0.49929  \n",
      "5   -5.877627 -4.927835 -3.49929  \n",
      "..        ...       ...      ...  \n",
      "356 -3.874793 -2.914185 -3.41853  \n",
      "357 -1.874793 -2.914185 -5.41853  \n",
      "358 -2.874793 -3.914185 -5.41853  \n",
      "359 -3.874793 -2.914185 -1.41853  \n",
      "360 -2.874793 -1.914185 -3.41853  \n",
      "\n",
      "[360 rows x 64 columns]\n"
     ]
    }
   ],
   "source": [
    "from PyVisualFields import visualFields\n",
    "\n",
    "df_VFs_py = visualFields.data_vfpwgRetest24d2()\n",
    "df_td, df_tdp, df_gi, df_gip, df_pd, df_pdp, gh = visualFields.getallvalues(df_VFs_py) \n",
    "a=print(df_td)"
   ]
  },
  {
   "cell_type": "markdown",
   "id": "59a62689",
   "metadata": {},
   "source": [
    "## compute each of the td, pd, pdp, etc based on the current NV "
   ]
  },
  {
   "cell_type": "code",
   "execution_count": 3,
   "id": "dc5d5841",
   "metadata": {},
   "outputs": [],
   "source": [
    "from PyVisualFields import visualFields\n",
    "\n",
    "df_VFs_py = visualFields.data_vfpwgRetest24d2()\n",
    "\n",
    "df_td = visualFields.gettd(df_VFs_py) # get TD values\n",
    "df_gi = visualFields.getgl(df_VFs_py) # get global indices\n",
    "df_tdp = visualFields.gettdp(df_td) # get TD probability values\n",
    "df_pd = visualFields.getpd(df_td) # get PD values\n",
    "gh = visualFields.getgh(df_td) # get the general height\n",
    "df_pdp = visualFields.getpdp(df_pd) # get PD probability values\n",
    "df_gip = visualFields.getglp(df_gi) # get global indices probability values"
   ]
  },
  {
   "cell_type": "markdown",
   "id": "a8d3e990",
   "metadata": {},
   "source": [
    "##  example to show required fields"
   ]
  },
  {
   "cell_type": "code",
   "execution_count": 5,
   "id": "8e7cb971",
   "metadata": {},
   "outputs": [],
   "source": [
    "from PyVisualFields import vfprogression\n",
    "from PyVisualFields import visualFields\n",
    "import pandas\n",
    "\n",
    "df_VFs_py = vfprogression.data_vfseries()\n",
    "columns2preserve = ['eyeid','righteye','age', 'duration', \n",
    "                     's1', 's2', 's3', 's4', 's5', 's6', 's7', 's8',\n",
    "                      's9', 's10', 's11', 's12', 's13', 's14', 's15', 's16',\n",
    "                       's17', 's18', 's19', 's20', 's21', 's22', 's23', 's24',\n",
    "                        's25', 's26', 's27', 's28', 's29', 's30', 's31', 's32',\n",
    "                         's33', 's34', 's35', 's36', 's37', 's38', 's39', 's40',\n",
    "                         's41',  's42', 's43', 's44', 's45', 's46', 's47', 's48',\n",
    "                          's49', 's50', 's51', 's52', 's53', 's54']\n",
    "df_VFs_py = df_VFs_py[columns2preserve]\n",
    "df_VFs_py.rename(columns={'s1':'l1', 's2':'l2', 's3':'l3', \n",
    "                                      's4':'l4', 's5':'l5', 's6':'l6', 's7':'l7',\n",
    "                                      's8':'l8', 's9':'l9', 's10':'l10',\n",
    "                                      's11':'l11', 's12':'l12', 's13':'l13',\n",
    "                                      's14':'l14', 's15':'l15','s16':'l16',\n",
    "                                      's17':'l17', 's18':'l18', 's19':'l19',\n",
    "                      's20':'l20', 's21':'l21', 's22':'l22',\n",
    "                      's23':'l23', 's24':'l24','s25':'l25', 's26':'l26', \n",
    "                      's27':'l27', 's28':'l28', 's29':'l29', 's30':'l30', \n",
    "                      's31':'l31', 's32':'l32','s33':'l33', 's34':'l34',\n",
    "                      's35':'l35', 's36':'l36', 's37':'l37', 's38':'l38', \n",
    "                      's39':'l39', 's40':'l40', 's41':'l41', \n",
    "                         's42':'l42', 's43':'l43', 's44':'l44', 's45':'l45', \n",
    "                         's46':'l46', 's47':'l47', 's48':'l48',\n",
    "                          's49':'l49', 's50':'l50', 's51':'l51', 's52':'l52',\n",
    "                          's53':'l53', 's54':'l54'}, inplace=True)\n",
    "df_VFs_py.rename(columns={\"eyeid\": \"id\"}, inplace=True)\n",
    "df_VFs_py = df_VFs_py.replace({'righteye':{0:'OS', 1:'OD'}})\n",
    "df_VFs_py.rename(columns={\"righteye\": \"eye\"}, inplace=True)\n",
    "df_VFs_py.insert(1, \"time\", '00:00:00')\n",
    "df_VFs_py.insert(1, 'date', 1000)\n",
    "df_VFs_py['date'] = pandas.to_datetime(df_VFs_py['date'], errors='coerce')\n",
    "df_VFs_py.insert(1, 'type', 'SIT')\n",
    "df_VFs_py.insert(1, 'fpr', 0)\n",
    "df_VFs_py.insert(1, 'fnr', 0)\n",
    "df_VFs_py.insert(1, 'fl', 0)\n",
    "df_td, df_tdp, df_gi, df_gip, df_pd, df_pdp, gh = visualFields.getallvalues(df_VFs_py)"
   ]
  },
  {
   "cell_type": "markdown",
   "id": "5bd3c5b6",
   "metadata": {},
   "source": [
    "## Get the all predefined normalization settings (from visualFields package)"
   ]
  },
  {
   "cell_type": "code",
   "execution_count": 1,
   "id": "3fd30d07",
   "metadata": {},
   "outputs": [
    {
     "name": "stdout",
     "output_type": "stream",
     "text": [
      "==> comment: > pw: pointwise, classic: smooth\n",
      "==> comment: > default is: sunyiu_24d2\n",
      "\n",
      "==> SettingName:  sunyiu_24d2_pw\n",
      "name:  SUNY-IU pointwise NVs for 24-2\n",
      "perimetry:  Static automated perimetry\n",
      "strategy:  SITA standard\n",
      "size:  Size III\n",
      "\n",
      "==> SettingName:  sunyiu_24d2\n",
      "name:  SUNY-IU classic NVs for 24-2\n",
      "perimetry:  Static automated perimetry\n",
      "strategy:  SITA standard\n",
      "size:  Size III\n",
      "\n",
      "==> SettingName:  sunyiu_24d2_pw_cps\n",
      "name:  SUNY-IU pointwise NVs for 24-2 with a CPS\n",
      "perimetry:  Static automated perimetry\n",
      "strategy:  SITA standard\n",
      "size:  Size III\n",
      "\n",
      "==> SettingName:  sunyiu_24d2_cps\n",
      "name:  SUNY-IU classic NVs for 24-2 with a CPS\n",
      "perimetry:  Static automated perimetry\n",
      "strategy:  SITA standard\n",
      "size:  Size III\n",
      "\n",
      "==> SettingName:  iowa_PC26_pw\n",
      "name:  Iowa pointwise NVs for PC26\n",
      "perimetry:  Static automated perimetry\n",
      "strategy:  ZEST\n",
      "size:  Size V\n",
      "\n",
      "==> SettingName:  iowa_PC26_pw_cps\n",
      "name:  Iowa pointwise NVs for PC26 with a CPS\n",
      "perimetry:  Static automated perimetry\n",
      "strategy:  ZEST\n",
      "size:  Size V\n",
      "\n",
      "==> SettingName:  iowa_Peri_pw\n",
      "name:  Iowa pointwise NVs for Peri\n",
      "perimetry:  Static automated perimetry\n",
      "strategy:  ZEST\n",
      "size:  Size V\n",
      "\n",
      "==> SettingName:  iowa_Peri_pw_cps\n",
      "name:  Iowa pointwise NVs for Peri with a CPS\n",
      "perimetry:  Static automated perimetry\n",
      "strategy:  ZEST\n",
      "size:  Size V\n"
     ]
    },
    {
     "data": {
      "text/plain": [
       "' \\n==> comment: > pw: pointwise, classic: smooth\\n==> comment: > default is: sunyiu_24d2\\n'"
      ]
     },
     "execution_count": 1,
     "metadata": {},
     "output_type": "execute_result"
    }
   ],
   "source": [
    "from PyVisualFields import visualFields\n",
    "\n",
    "NormValues = visualFields.normvals()\n",
    "NormInfo = visualFields.get_info_normvals()\n",
    "\n",
    "''' \n",
    "==> comment: > pw: pointwise, classic: smooth\n",
    "==> comment: > default is: sunyiu_24d2\n",
    "'''"
   ]
  },
  {
   "cell_type": "markdown",
   "id": "5651607e",
   "metadata": {},
   "source": [
    "## set normalization values based on predefined ones (from visualFields package)"
   ]
  },
  {
   "cell_type": "code",
   "execution_count": 7,
   "id": "5408d838",
   "metadata": {},
   "outputs": [
    {
     "name": "stdout",
     "output_type": "stream",
     "text": [
      "===> current NV setting:\n",
      "$name\n",
      "\n",
      "[1] \"SUNY-IU classic NVs for 24-2\"\n",
      "\n",
      "\n",
      "\n",
      "$perimetry\n",
      "\n",
      "[1] \"Static automated perimetry\"\n",
      "\n",
      "\n",
      "\n",
      "$strategy\n",
      "\n",
      "[1] \"SITA standard\"\n",
      "\n",
      "\n",
      "\n",
      "$size\n",
      "\n",
      "[1] \"Size III\"\n",
      "\n",
      "\n",
      "\n",
      "===> new current NV setting:\n",
      "$name\n",
      "\n",
      "[1] \"Iowa pointwise NVs for Peri\"\n",
      "\n",
      "\n",
      "\n",
      "$perimetry\n",
      "\n",
      "[1] \"Static automated perimetry\"\n",
      "\n",
      "\n",
      "\n",
      "$strategy\n",
      "\n",
      "[1] \"ZEST\"\n",
      "\n",
      "\n",
      "\n",
      "$size\n",
      "\n",
      "[1] \"Size V\"\n",
      "\n",
      "\n",
      "\n"
     ]
    }
   ],
   "source": [
    "from PyVisualFields import visualFields\n",
    "\n",
    "# we are going to change the setting from classic SUNY-IU to Iowa pointwise \n",
    "print('===> current NV setting:', )\n",
    "currentNV = visualFields.getnv() \n",
    "target_predeifned_nv_name = 'iowa_Peri_pw'\n",
    "visualFields.setnv(target_predeifned_nv_name)\n",
    "print('===> new current NV setting:', )\n",
    "currentNV = visualFields.getnv() # check it is set correctly:"
   ]
  },
  {
   "cell_type": "markdown",
   "id": "1f3ee932",
   "metadata": {},
   "source": [
    "## caculate new normalization values from a population and set it to be used:"
   ]
  },
  {
   "cell_type": "code",
   "execution_count": 6,
   "id": "d53cc4ff",
   "metadata": {},
   "outputs": [
    {
     "name": "stdout",
     "output_type": "stream",
     "text": [
      "===> current NV setting: \n",
      "$name\n",
      "\n",
      "[1] \"our_NV\"\n",
      "\n",
      "\n",
      "\n",
      "$perimetry\n",
      "\n",
      "[1] \"something\"\n",
      "\n",
      "\n",
      "\n",
      "$strategy\n",
      "\n",
      "[1] \"something\"\n",
      "\n",
      "\n",
      "\n",
      "$size\n",
      "\n",
      "[1] \"tmp\"\n",
      "\n",
      "\n",
      "\n",
      "[1] \"==> default normalization setting is set:\"\n",
      "[1] \"SUNY-IU classic NVs for 24-2\"\n"
     ]
    }
   ],
   "source": [
    "from PyVisualFields import visualFields\n",
    "import pickle\n",
    "\n",
    "######## caculate new nv values and set it to be used:\n",
    "df_VFs_py = visualFields.data_vfctrSunyiu24d2()\n",
    "newNV_r, newNV_py = visualFields.nvgenerate(df_VFs_py, method = \"pointwise\",\n",
    "                             name = \"our_NV\",\n",
    "                             perimetry = \"something\",\n",
    "                             strategy = \"something\",\n",
    "                             size = \"tmp\")\n",
    "visualFields.setnv(newNV_r)\n",
    "print('===> current NV setting: ')\n",
    "currentNV = visualFields.getnv() # check it is set correctly:\n",
    "\n",
    "#''' notcie: this normalization will not be saved.\n",
    "#We need to set for each session\n",
    "#so we need to save and load them seperately, e.g.: '''\n",
    "newNV_dict = { \"newNV_r\": newNV_r, \"newNV_py\": newNV_py }\n",
    "pickle.dump( newNV_dict, open( \"our_NV.pkl\", \"wb\" ) )\n",
    "\n",
    "loaded_dict = pickle.load( open( \"our_NV.pkl\", \"rb\" ) )\n",
    "newNV_r = loaded_dict['newNV_r']\n",
    "newNV_py = loaded_dict['newNV_py']\n",
    "visualFields.setnv(newNV_r) # set it to be used\n",
    "\n",
    "#### change the normalization values to the defalut of package: sunyiu_24d2\n",
    "visualFields.setdefaults()"
   ]
  },
  {
   "cell_type": "code",
   "execution_count": null,
   "id": "10338e4a",
   "metadata": {},
   "outputs": [],
   "source": []
  }
 ],
 "metadata": {
  "kernelspec": {
   "display_name": "Python 3",
   "language": "python",
   "name": "python3"
  },
  "language_info": {
   "codemirror_mode": {
    "name": "ipython",
    "version": 3
   },
   "file_extension": ".py",
   "mimetype": "text/x-python",
   "name": "python",
   "nbconvert_exporter": "python",
   "pygments_lexer": "ipython3",
   "version": "3.8.8"
  }
 },
 "nbformat": 4,
 "nbformat_minor": 5
}
