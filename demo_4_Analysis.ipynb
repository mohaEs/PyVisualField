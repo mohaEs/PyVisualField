{
 "cells": [
  {
   "cell_type": "markdown",
   "id": "e235384a",
   "metadata": {},
   "source": [
    "## This notebook shows examples for progression analysis"
   ]
  },
  {
   "cell_type": "markdown",
   "id": "04544ca1",
   "metadata": {},
   "source": [
    "### get_score_AGIS: severity score (from vfprogression package)\n",
    "\n",
    "#### Description: The Advanced Glaucoma Intervention Study (AGIS) is a multicenter, randomized clinical trial designed (1) to determine the better of two surgical management strategies for glaucoma when medical treatment alone no longer adequately controls the disease and (2) to clarify the clinical course and prognosis of open-angle glaucoma after surgical interventions have begun [1].\n",
    "### [1] Advanced Glaucoma Intervention Study. 2. Visual field test scoring and reliability. Ophthalmology. 1994; 101: 1445–1455."
   ]
  },
  {
   "cell_type": "code",
   "execution_count": 1,
   "id": "e189b44c",
   "metadata": {},
   "outputs": [
    {
     "data": {
      "text/plain": [
       "11"
      ]
     },
     "execution_count": 1,
     "metadata": {},
     "output_type": "execute_result"
    }
   ],
   "source": [
    "from PyVisualFields import vfprogression\n",
    "\n",
    "df_VFs_py = vfprogression.data_vfseries() # get data\n",
    "\n",
    "df_VF_py = df_VFs_py.iloc[15]\n",
    "\n",
    "score = vfprogression.get_score_AGIS(df_VF_py)\n",
    "score"
   ]
  },
  {
   "cell_type": "markdown",
   "id": "06b34100",
   "metadata": {},
   "source": [
    "### get_score_CIGTS: sverity score (from vfprogression package)\n",
    "\n",
    "#### Description: The Collaborative Initial Glaucoma Treatment Study (CIGTS) is a randomized, controlled clinical trial designed to determine whether patients with newly diagnosed open-angle glaucoma (primary, pigmentary, or pseudoexfoliative) are better treated by initial treatment with medications or by immediate filtration surgery [1].\n",
    "### [1] Musch DC, Lichter PR, Guire KE, Standardi CL. The Collaborative Initial Glaucoma Treatment Study: study design, methods, and baseline characteristics of enrolled patients. Ophthalmology. 1999; 106: 653–662."
   ]
  },
  {
   "cell_type": "code",
   "execution_count": 9,
   "id": "253b219b",
   "metadata": {},
   "outputs": [
    {
     "data": {
      "text/plain": [
       "11.3461538461538"
      ]
     },
     "execution_count": 9,
     "metadata": {},
     "output_type": "execute_result"
    }
   ],
   "source": [
    "from PyVisualFields import vfprogression\n",
    "\n",
    "df_VFs_py = vfprogression.data_vfseries() #get data\n",
    "df_VF_py = df_VFs_py.iloc[15]\n",
    "\n",
    "score = vfprogression.get_score_CIGTS(df_VF_py)\n",
    "score"
   ]
  },
  {
   "cell_type": "markdown",
   "id": "760a0e06",
   "metadata": {},
   "source": [
    "### progression.cigts: progression analysis based on CIGTS VF progression  (from vfprogression package)\n",
    "\n",
    "\n",
    "#### Description: The function returns the progression of visual field test based on 52 or 54 total deviation probabilities (tdp). CIGTS VF progression (Musch et al., 1999)."
   ]
  },
  {
   "cell_type": "code",
   "execution_count": 3,
   "id": "f3daa9df",
   "metadata": {},
   "outputs": [
    {
     "name": "stdout",
     "output_type": "stream",
     "text": [
      "('worsening', 'stable')\n"
     ]
    }
   ],
   "source": [
    "from PyVisualFields import vfprogression\n",
    "\n",
    "###### at least 5 VFs required\n",
    "df_VFs_py = vfprogression.data_cigts()\n",
    "\n",
    "results = vfprogression.progression_cigts(df_VFs_py)# input data needs to have columns tdp1, ... tdp54\n",
    "print(results)# (left eye, right eye)"
   ]
  },
  {
   "cell_type": "markdown",
   "id": "62f5d3fb",
   "metadata": {},
   "source": [
    "### Another example "
   ]
  },
  {
   "cell_type": "code",
   "execution_count": 4,
   "id": "5391200f",
   "metadata": {},
   "outputs": [
    {
     "name": "stdout",
     "output_type": "stream",
     "text": [
      "('worsening', 'stable')\n"
     ]
    }
   ],
   "source": [
    "from PyVisualFields import vfprogression\n",
    "\n",
    "df_VFs_py_ = vfprogression.data_vfseries() # get data \n",
    "results = vfprogression.progression_cigts(df_VFs_py_)  # input data needs to have columns tdp1, ... tdp54\n",
    "print(results)# (left eye, right eye)"
   ]
  },
  {
   "cell_type": "markdown",
   "id": "4805ebe6",
   "metadata": {},
   "source": [
    "### progression_plrnouri2012: progression analysis based on Nouri-Mahdavi 2012  (from vfprogression package)\n",
    "#### Description: returns the progression criterion, using Pointwise Linear Regression (PLR) progression detection method according to Nouri-Mahdavi et al. (2012)."
   ]
  },
  {
   "cell_type": "code",
   "execution_count": 5,
   "id": "3fc957ce",
   "metadata": {},
   "outputs": [
    {
     "name": "stdout",
     "output_type": "stream",
     "text": [
      "('stable', 'stable')\n"
     ]
    }
   ],
   "source": [
    "from PyVisualFields import vfprogression\n",
    "\n",
    "df_VFs_py = vfprogression.data_plrnouri2012()\n",
    "results = vfprogression.progression_plrnouri2012(df_VFs_py)\n",
    "print(results)# (left eye, right eye)"
   ]
  },
  {
   "cell_type": "markdown",
   "id": "9473a864",
   "metadata": {},
   "source": [
    "### progression_vfi: progression analysis based on VFI (significant slope, p<=0.05)(from vfprogression package).\n",
    "#### Description: returns the progression criterion used in Aptel et al. (2015)."
   ]
  },
  {
   "cell_type": "code",
   "execution_count": 6,
   "id": "41ce52ba",
   "metadata": {},
   "outputs": [
    {
     "name": "stdout",
     "output_type": "stream",
     "text": [
      "('worsening', 'worsening')\n"
     ]
    }
   ],
   "source": [
    "from PyVisualFields import vfprogression\n",
    "\n",
    "###### at least 5 VFs required\n",
    "df_VFs_py = vfprogression.data_vfi()\n",
    "results = vfprogression.progression_vfi(df_VFs_py)\n",
    "print(results)# (left eye, right eye)"
   ]
  },
  {
   "cell_type": "markdown",
   "id": "60de2e87",
   "metadata": {},
   "source": [
    "### progression_schell2014: progression analysis based on Schell 2014 VF  (from vfprogression package)\n",
    "\n",
    "#### Description: progression.schell2014 returns the progression analysis by Schell et al. 2014, which is essentially like CIGTS but with MD, and only one follow-up is enough to confirm progression."
   ]
  },
  {
   "cell_type": "code",
   "execution_count": 7,
   "id": "9a124dbd",
   "metadata": {},
   "outputs": [
    {
     "name": "stdout",
     "output_type": "stream",
     "text": [
      "('worsening', 'stable')\n"
     ]
    }
   ],
   "source": [
    "from PyVisualFields import vfprogression\n",
    "\n",
    "###### at least 5 VFs required\n",
    "df_VFs_py = vfprogression.data_schell2014()\n",
    "\n",
    "results = vfprogression.progression_schell2014(df_VFs_py)\n",
    "print(results)# (left eye, right eye)"
   ]
  },
  {
   "cell_type": "markdown",
   "id": "994a482d",
   "metadata": {},
   "source": [
    "### progression_agis: progression analysis based on AGIS (from vfprogression package)\n",
    "\n",
    "#### A data frame sample including the following visual field related measurement for two eyes"
   ]
  },
  {
   "cell_type": "code",
   "execution_count": 8,
   "id": "2931a674",
   "metadata": {},
   "outputs": [
    {
     "name": "stdout",
     "output_type": "stream",
     "text": [
      "('stable', 'stable')\n"
     ]
    }
   ],
   "source": [
    "from PyVisualFields import vfprogression\n",
    "\n",
    "###### at least 5 VFs required\n",
    "df_VFs_py_ = vfprogression.data_vfseries()\n",
    "results = vfprogression.progression_agis(df_VFs_py_)\n",
    "print(results)# (left eye, right eye)\n"
   ]
  },
  {
   "cell_type": "markdown",
   "id": "afeb0810",
   "metadata": {},
   "source": [
    "### glr: Linear regression with global indices (from visualFields package)"
   ]
  },
  {
   "cell_type": "code",
   "execution_count": 1,
   "id": "00395838",
   "metadata": {},
   "outputs": [
    {
     "name": "stdout",
     "output_type": "stream",
     "text": [
      "odict_keys(['id', 'eye', 'type', 'testSlope', 'nvisits', 'dates', 'years', 'data', 'pred', 'sl', 'int', 'se', 'tval', 'pval'])\n"
     ]
    },
    {
     "data": {
      "text/plain": [
       "Text(0.5, 1.0, 'mean deviation of total deviation values')"
      ]
     },
     "execution_count": 1,
     "metadata": {},
     "output_type": "execute_result"
    },
    {
     "data": {
      "image/png": "[encoded data removed]",
      "text/plain": [
       "<Figure size 432x288 with 1 Axes>"
      ]
     },
     "metadata": {
      "needs_background": "light"
     },
     "output_type": "display_data"
    }
   ],
   "source": [
    "'''\n",
    "performs global linear regression analysis\n",
    "\n",
    "# type: \n",
    "    ‘ms‘: mean sensitivity\n",
    "    ‘ss‘: standard deviation of sensitivities\n",
    "    ‘md‘: mean deviation of total deviation values\n",
    "    ‘sd‘: standard deviation of total deviation values\n",
    "    ‘pmd‘: pattern mean deviation\n",
    "    ‘psd‘: pattern standard deviation\n",
    "    ‘vfi‘: VFI    \n",
    "    ‘gh‘: general height \n",
    "    \n",
    "# testSlope:\n",
    "    slope, or slopes, to test as null hypothesis. Default is 0.\n",
    "    \n",
    "    \n",
    "return values:\n",
    "    \n",
    "    - id patient ID\n",
    "    – eye patient eye\n",
    "    – type type of data analysis. . \n",
    "    – testSlope slope for glr or list of slopes for plr to test as null hypotheses\n",
    "    – nvisits number of visits\n",
    "    – years years from baseline. Used for the pointwise linear regression analysis\n",
    "    – data data analyzed. \n",
    "    – pred predicted values. Each column is a location of the visual field used for the analysis.\n",
    "    Each row is a visit (as many as years)\n",
    "    – sl slopes estimated at each location for pointwise (simple) linear regression\n",
    "    – int intercept estimated at each location for pointwise (simple) linear regression\n",
    "    – tval t-values obtained for the left-tailed-t-tests for the slopes obtained in the pointwise\n",
    "    (simple) linear regression at each location\n",
    "    – pval p-values obtained for the left-tailed t-tests for the slopes obtained\n",
    "'''\n",
    "\n",
    "from PyVisualFields import visualFields\n",
    "import numpy as np\n",
    "import matplotlib.pyplot as plt\n",
    "\n",
    "df_VFs_py = visualFields.data_vfpwgRetest24d2()\n",
    "df_VFs_py = df_VFs_py.loc[(df_VFs_py.id==1) & (df_VFs_py.eye=='OD')]\n",
    "df_gi = visualFields.getgl(df_VFs_py) # get global indices\n",
    "res = visualFields.glr(df_gi, type = \"md\", testSlope = 0) #linear regression with global indices\n",
    "print(res.keys())\n",
    "\n",
    "\n",
    "intercept =  float(res['int'])\n",
    "slope = float(res['sl'])\n",
    "se =  float(res['se'])\n",
    "tval = float(res['tval'])\n",
    "pval = float(res['pval'])\n",
    "years = res['years']\n",
    "\n",
    "\n",
    "x = np.linspace(0, 1, num=50)\n",
    "y = df_gi['tmd'].values\n",
    "# Create a list of values in the best fit line\n",
    "abline_values = [slope * i + intercept for i in x]\n",
    "plt.plot(x, abline_values, '--')\n",
    "plt.scatter(years, y)\n",
    "plt.xlabel('years')\n",
    "plt.ylabel('TMD')\n",
    "plt.title('mean deviation of total deviation values')"
   ]
  },
  {
   "cell_type": "markdown",
   "id": "877f1510",
   "metadata": {},
   "source": [
    "### plr: performs pointwise linear regression (PLR) analysis (from visualFields package)"
   ]
  },
  {
   "cell_type": "code",
   "execution_count": 2,
   "id": "6b974c59",
   "metadata": {},
   "outputs": [
    {
     "name": "stdout",
     "output_type": "stream",
     "text": [
      "===> keys is res:  \n",
      " odict_keys(['id', 'eye', 'type', 'testSlope', 'nvisits', 'dates', 'years', 'data', 'pred', 'sl', 'int', 'se', 'tval', 'pval'])\n",
      "===> keys in slope: \n",
      " odict_keys(['l1', 'l2', 'l3', 'l4', 'l5', 'l6', 'l7', 'l8', 'l9', 'l10', 'l11', 'l12', 'l13', 'l14', 'l15', 'l16', 'l17', 'l18', 'l19', 'l20', 'l21', 'l22', 'l23', 'l24', 'l25', 'l26', 'l27', 'l28', 'l29', 'l30', 'l31', 'l32', 'l33', 'l34', 'l35', 'l36', 'l37', 'l38', 'l39', 'l40', 'l41', 'l42', 'l43', 'l44', 'l45', 'l46', 'l47', 'l48', 'l49', 'l50', 'l51', 'l52', 'l53', 'l54'])\n",
      "===>slope values:  \n",
      " [ 10.03434066  -2.37175325   3.83129371  -2.18931069  -7.84502997\n",
      "  19.88623876  15.69005994   1.45954046  14.5954046   15.14273227\n",
      " -14.96028971   5.29083417 -52.90834166   2.91908092   5.83816184\n",
      " -38.13049451  13.13586414   4.37862138 -29.92057942 -28.2785964\n",
      " -81.36938062   9.30457043  14.77784715  11.128996     7.66258741\n",
      "          nan  -2.91908092   5.47327672   8.02747253   7.2977023\n",
      "  14.77784715   4.74350649   9.66945554  16.41983017          nan\n",
      "   6.93281718  -0.18244256  -2.37175325   6.0206044    0.72977023\n",
      "   5.10839161   7.2977023    7.11525974  10.21678322  14.77784715\n",
      "  10.39922577  16.23738761  10.39922577  -2.18931069   3.83129371\n",
      "   3.10152348  10.03434066   5.10839161  12.22365135]\n",
      "===> intercepts values:  \n",
      " [24.19230769 25.33333333 24.34615385 24.8974359  24.91025641 22.98717949\n",
      " 22.84615385 24.01282051 23.12820513 23.98717949 20.74358974 16.19230769\n",
      " 11.91025641 20.02564103 21.55128205  9.93589744 22.78205128 26.20512821\n",
      " 16.15384615 15.56410256 25.24358974 26.6025641  27.69230769 28.57692308\n",
      " 28.35897436         nan 27.64102564 25.92307692 27.15384615 29.3974359\n",
      " 29.19230769 30.16666667 28.8974359  28.26923077         nan 24.43589744\n",
      " 28.26923077 29.         29.11538462 29.75641026 28.79487179 28.8974359\n",
      " 26.83333333 27.58974359 26.02564103 27.32051282 26.53846154 26.15384615\n",
      " 26.23076923 28.51282051 24.92307692 24.19230769 26.29487179 27.62820513]\n"
     ]
    }
   ],
   "source": [
    "''' performs pointwise linear regression (PLR) analysis\n",
    "\n",
    "# type: \n",
    "    ‘s‘: sensitivities\n",
    "    ‘td‘: total deviation values\n",
    "    ‘pd‘: pattern deviation values\n",
    "    \n",
    "# testSlope:\n",
    "    slope, or slopes, to test as null hypothesis. Default is 0.\n",
    "    if a single value, then the same null hypothesis is used for all locations.\n",
    "    If a vector of values, then (for plr\n",
    "    and poplr) each location of the visual field will have a different null hypothesis.\n",
    "    The length of testSlope must be 1 or equal to the number of locations to be used\n",
    "    in the PLR or PoPLR analysis\n",
    "    \n",
    "    \n",
    "return values:\n",
    "    \n",
    "    - id patient ID\n",
    "    – eye patient eye\n",
    "    – type type of data analysis. . \n",
    "    – testSlope slope for glr or list of slopes for plr to test as null hypotheses\n",
    "    – nvisits number of visits\n",
    "    – years years from baseline. Used for the pointwise linear regression analysis\n",
    "    – data data analyzed. \n",
    "    – pred predicted values. Each column is a location of the visual field used for the analysis.\n",
    "    Each row is a visit (as many as years)\n",
    "    – sl slopes estimated at each location for pointwise (simple) linear regression\n",
    "    – int intercept estimated at each location for pointwise (simple) linear regression\n",
    "    – tval t-values obtained for the left-tailed-t-tests for the slopes obtained in the pointwise\n",
    "    (simple) linear regression at each location\n",
    "    – pval p-values obtained for the left-tailed t-tests for the slopes obtained\n",
    "'''\n",
    "\n",
    "from PyVisualFields import visualFields\n",
    "import numpy as np\n",
    "\n",
    "\n",
    "df_VFs_py = visualFields.data_vfpwgRetest24d2()\n",
    "df_VFs_py = df_VFs_py.loc[(df_VFs_py.id==1) & (df_VFs_py.eye=='OD')]\n",
    "res = visualFields.plr(df_VFs_py, type='s', testSlope=0) # pointwise linear regression (PLR) \n",
    "\n",
    "print('===> keys is res:  \\n', res.keys())\n",
    "intercept = res['int']\n",
    "slope = res['sl']\n",
    "standarderror = res['se']\n",
    "tval = res['tval']\n",
    "pval = res['pval']\n",
    "print('===> keys in slope: \\n', slope.keys())\n",
    "arrObejct = np.asarray(list(slope.items()), dtype=object)\n",
    "slopes_numpy = np.asarray(arrObejct[:,1], dtype=float) \n",
    "print('===>slope values:  \\n', slopes_numpy)\n",
    "arrObejct = np.asarray(list(intercept.items()), dtype=object)\n",
    "intercepts_numpy = np.asarray(arrObejct[:,1], dtype=float) \n",
    "print('===> intercepts values:  \\n', intercepts_numpy)"
   ]
  },
  {
   "cell_type": "markdown",
   "id": "f27e322f",
   "metadata": {},
   "source": [
    "### poplr: performs PoPLR regression analysis as in O’Leary et al (from visualFields package). \n",
    "\n",
    "#### Reference: N. O’Leary, B. C. Chauhan, and P. H. Artes. Visual field progression in glaucoma: estimating the overall significance of deterioration with permutation analyses of pointwise linear regression (PoPLR). Investigative Ophthalmology and Visual Science, 53, 2012"
   ]
  },
  {
   "cell_type": "code",
   "execution_count": 4,
   "id": "1006b02e",
   "metadata": {},
   "outputs": [
    {
     "name": "stdout",
     "output_type": "stream",
     "text": [
      "odict_keys(['id', 'eye', 'type', 'testSlope', 'nvisits', 'dates', 'years', 'data', 'pred', 'sl', 'int', 'se', 'tval', 'pval', 'nperm', 'csl', 'cslp', 'csr', 'csrp', 'pstats', 'cstats'])\n"
     ]
    }
   ],
   "source": [
    "'''\n",
    "performs PoPLR analysis as in O’Leary et al:\n",
    "    N. O’Leary, B. C. Chauhan, and P. H. Artes. Visual field progression in glaucoma: estimating\n",
    "    the overall significance of deterioration with permutation analyses of pointwise linear regression\n",
    "    (PoPLR). Investigative Ophthalmology and Visual Science, 53, 2012\n",
    "\n",
    "# type: \n",
    "    ‘s‘: sensitivities\n",
    "    ‘td‘: total deviation values\n",
    "    ‘pd‘: pattern deviation values\n",
    "    \n",
    "# testSlope:\n",
    "    slope, or slopes, to test as null hypothesis. Default is 0.\n",
    "    if a single value, then the same null hypothesis is used for all locations.\n",
    "    If a vector of values, then (for plr\n",
    "    and poplr) each location of the visual field will have a different null hypothesis.\n",
    "    The length of testSlope must be 1 or equal to the number of locations to be used\n",
    "    in the PLR or PoPLR analysis\n",
    "    \n",
    "# nperm:\n",
    "    number of permutations. If the number of visits is 7 or less, then nperm =factorial(nrow(vf)).\n",
    "# trunc:        \n",
    "    truncation value for the Truncated Product Method (see reference)\n",
    "    \n",
    "    \n",
    "return values:\n",
    "    \n",
    "    - id patient ID\n",
    "    – eye patient eye\n",
    "    – type type of data analysis. . \n",
    "    – testSlope slope for glr or list of slopes for plr to test as null hypotheses\n",
    "    – nvisits number of visits\n",
    "    – years years from baseline. Used for the pointwise linear regression analysis\n",
    "    – data data analyzed. \n",
    "    – pred predicted values. Each column is a location of the visual field used for the analysis.\n",
    "    Each row is a visit (as many as years)\n",
    "    – sl slopes estimated at each location for pointwise (simple) linear regression\n",
    "    – int intercept estimated at each location for pointwise (simple) linear regression\n",
    "    – tval t-values obtained for the left-tailed-t-tests for the slopes obtained in the pointwise\n",
    "    (simple) linear regression at each location\n",
    "    – pval p-values obtained for the left-tailed t-tests for the slopes obtained\n",
    "    \n",
    "    – csl the modifed Fisher’s S-statistic for the left-tailed permutation test\n",
    "    – cslp the p-value for the left-tailed permutation test\n",
    "    – csr the modifed Fisher’s S-statistic for the right-tailed permutation test\n",
    "    – csrp the p-value for the right-tailed permutation test\n",
    "    – pstats a list with the poinwise slopes (‘sl‘), intercepts (‘int‘), standard errors (‘se‘),\n",
    "    and p-values (‘pval‘) obtained for the series at each location analyzed and for all nperm\n",
    "    permutations (in ‘permutations‘)\n",
    "    – cstats a list with all combined stats:\n",
    "    * csl,csr the combined Fisher S-statistics for the left- and right-tailed permutation\n",
    "    tests respectively\n",
    "    * cslp,csrp the corresponding p-values for the permutation tests\n",
    "    * cslall,csrall the combined Fisher S-statistics for all permutations\n",
    "    \n",
    "'''\n",
    "\n",
    "from PyVisualFields import visualFields\n",
    "import numpy as np\n",
    "\n",
    "# Permutation of PLR with TD values\n",
    "df_VFs_py = visualFields.data_vfpwgRetest24d2()\n",
    "df_VFs_py = df_VFs_py.loc[(df_VFs_py.id==1) & (df_VFs_py.eye=='OD')]\n",
    "res = visualFields.poplr(df_VFs_py, type = \"td\", testSlope = 0, nperm = 'default', trunc = 1) # Permutation of PLR with TD values\n",
    "print(res.keys())"
   ]
  },
  {
   "cell_type": "code",
   "execution_count": null,
   "id": "d9233bf2",
   "metadata": {},
   "outputs": [],
   "source": []
  }
 ],
 "metadata": {
  "kernelspec": {
   "display_name": "Python 3",
   "language": "python",
   "name": "python3"
  },
  "language_info": {
   "codemirror_mode": {
    "name": "ipython",
    "version": 3
   },
   "file_extension": ".py",
   "mimetype": "text/x-python",
   "name": "python",
   "nbconvert_exporter": "python",
   "pygments_lexer": "ipython3",
   "version": "3.8.8"
  }
 },
 "nbformat": 4,
 "nbformat_minor": 5
}
